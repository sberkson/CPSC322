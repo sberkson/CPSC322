{
 "cells": [
  {
   "cell_type": "code",
   "execution_count": 113,
   "metadata": {},
   "outputs": [],
   "source": [
    "# some useful mysklearn package import statements and reloads\n",
    "import importlib\n",
    "\n",
    "import mysklearn.myutils\n",
    "importlib.reload(mysklearn.myutils)\n",
    "import mysklearn.myutils as myutils\n",
    "\n",
    "# uncomment once you paste your mypytable.py into mysklearn package\n",
    "import mysklearn.mypytable\n",
    "importlib.reload(mysklearn.mypytable)\n",
    "from mysklearn.mypytable import MyPyTable \n",
    "\n",
    "import mysklearn.myclassifiers\n",
    "importlib.reload(mysklearn.myclassifiers)\n",
    "from mysklearn.myclassifiers import MySimpleLinearRegressionClassifier,\\\n",
    "    MyKNeighborsClassifier,\\\n",
    "    MyDummyClassifier\n",
    "\n",
    "import numpy as np"
   ]
  },
  {
   "cell_type": "markdown",
   "metadata": {},
   "source": [
    "# PA4 Auto Classification\n",
    "### Sam Berkson\n"
   ]
  },
  {
   "cell_type": "markdown",
   "metadata": {},
   "source": [
    "### Data Preparation\n",
    "\n",
    "To begin, we will seed our random generator to ensure that our results can be replecated.  We then load in our data from a .txt file to a MyPyTable() object.  We then discretize our MPG values on a 1-10 scale.  The last step is to select our common training and testing sets."
   ]
  },
  {
   "cell_type": "code",
   "execution_count": 114,
   "metadata": {},
   "outputs": [
    {
     "name": "stdout",
     "output_type": "stream",
     "text": [
      "Testing set and indexes\n",
      "Index 47 : 47 , Weight:  3139.0 , Label:  4\n",
      "Index 117 : 117 , Weight:  2158.0 , Label:  6\n",
      "Index 172 : 172 , Weight:  3211.0 , Label:  4\n",
      "Index 192 : 192 , Weight:  2164.0 , Label:  6\n",
      "Index 251 : 251 , Weight:  2720.0 , Label:  6\n"
     ]
    }
   ],
   "source": [
    "np.random.seed(0)\n",
    "\n",
    "table = MyPyTable()\n",
    "table.load_from_file(\"auto-data-removed-NA.txt\")\n",
    "\n",
    "counter = 0\n",
    "for row in table.data:\n",
    "    if row[0] <= 13:\n",
    "        table.data[counter][0] = 1\n",
    "    elif row[0] == 14:\n",
    "        table.data[counter][0] = 2\n",
    "    elif (row[0] == 15 or row[0] == 16):\n",
    "        table.data[counter][0] = 3\n",
    "    elif (row[0] <= 19 and row[0] >= 17):\n",
    "        table.data[counter][0] = 4\n",
    "    elif (row[0] <= 23 and row[0] >= 20):\n",
    "        table.data[counter][0] = 5\n",
    "    elif (row[0] <= 26 and row[0] >= 24):\n",
    "        table.data[counter][0] = 6\n",
    "    elif (row[0] <= 30 and row[0] >= 27):\n",
    "        table.data[counter][0] = 7\n",
    "    elif (row[0] <= 36 and row[0] >= 31):\n",
    "        table.data[counter][0] = 8\n",
    "    elif (row[0] <= 44 and row[0] >= 37):\n",
    "        table.data[counter][0] = 9\n",
    "    else:\n",
    "        table.data[counter][0] = 10\n",
    "    counter += 1\n",
    "\n",
    "headers = table.get_column_names()\n",
    "randomIndexes = []\n",
    "rows = []\n",
    "\n",
    "i = 0\n",
    "while(i < 5):\n",
    "    randomIndexes.append(np.random.randint(0, len(table.data)))\n",
    "    i += 1\n",
    "\n",
    "for index in randomIndexes:\n",
    "    rows.append(table.data[index])\n",
    "\n",
    "X_test = []\n",
    "for row in rows:\n",
    "    X_test.append(row[4])\n",
    "\n",
    "X_train =[]\n",
    "y_train = []\n",
    "\n",
    "index = 0\n",
    "for row in table.data:\n",
    "    if table.data[index] not in randomIndexes:\n",
    "        X_train.append(row[4])\n",
    "        y_train.append(row[0])\n",
    "    index += 1\n",
    "\n",
    "print(\"Testing set and indexes\")\n",
    "labels_actual = []\n",
    "\n",
    "index = 0\n",
    "for row in table.data:\n",
    "    if index in randomIndexes:\n",
    "        print(\"Index\", index, \":\", index, \", Weight: \", row[4], \", Label: \", row[0])\n",
    "        labels_actual.append(row[0])\n",
    "    index += 1\n"
   ]
  },
  {
   "cell_type": "markdown",
   "metadata": {},
   "source": [
    "### Linear Regression MPG Classifier\n",
    "\n",
    "Our next step is to fit a linear regression line between the vehicle weight and the discretized MPG label.  We pass in all instances (excluding our 5 testing instances), and fit a least squares linear regression to the data.  We then predict the MPG label of each instance in our testing set."
   ]
  },
  {
   "cell_type": "code",
   "execution_count": 115,
   "metadata": {},
   "outputs": [
    {
     "name": "stdout",
     "output_type": "stream",
     "text": [
      "Linear Regression Predicted MPG Label:  [4, 5, 6, 6, 5]\n",
      "Actual MPG Label:  [4, 6, 4, 6, 6]\n"
     ]
    }
   ],
   "source": [
    "regressor = MySimpleLinearRegressionClassifier(None)\n",
    "regressor.fit(X_train, y_train)\n",
    "MPG_linear_labels = regressor.predict(X_test)\n",
    "\n",
    "print(\"Linear Regression Predicted MPG Label: \", MPG_linear_labels)\n",
    "print(\"Actual MPG Label: \", labels_actual)"
   ]
  },
  {
   "cell_type": "markdown",
   "metadata": {},
   "source": [
    "As we can see, our linear regression didnt totally miss the mark.  We had an accuracy of 40%, correctly predicting the 1st and 4th instances.  "
   ]
  },
  {
   "cell_type": "markdown",
   "metadata": {},
   "source": [
    "### K Nearest Neighbors MPG Classifier\n",
    "\n",
    "Our next step is to use our k nearest neighbors algorithm to predict MPG given the number of cylinders, the car's weight, and the car's acceleration.  We pass in all of our instances (excluding our 5 testing instances), and then predict the MPG label of each instance in our testing set"
   ]
  },
  {
   "cell_type": "code",
   "execution_count": 116,
   "metadata": {},
   "outputs": [
    {
     "name": "stdout",
     "output_type": "stream",
     "text": [
      "kNN Predicted MPG Label:  [4, 4, 4, 4, 4]\n",
      "Actual MPG Label:  [4, 6, 4, 6, 6]\n"
     ]
    }
   ],
   "source": [
    "kNN_X_train = []\n",
    "\n",
    "index = 0\n",
    "for row in table.data:\n",
    "    if index in randomIndexes:\n",
    "        instance = []\n",
    "        instance.append(row[1])\n",
    "        instance.append(row[4])\n",
    "        instance.append(row[5])\n",
    "        kNN_X_train.append(instance)\n",
    "    index += 1\n",
    "\n",
    "kNN = MyKNeighborsClassifier(n_neighbors = 5)\n",
    "kNN.fit(kNN_X_train, y_train)\n",
    "distances, indices = kNN.kneighbors(X_test)\n",
    "kNN_predicted_labels = kNN.predict(X_test)\n",
    "\n",
    "print(\"kNN Predicted MPG Label: \", kNN_predicted_labels)\n",
    "print(\"Actual MPG Label: \", labels_actual)"
   ]
  },
  {
   "cell_type": "markdown",
   "metadata": {},
   "source": [
    "Our accuracy for k nearest neighbors is the same as our linear regression, clocking in at 40%.  This time, we correctly predicted the 1st and 3rd instances' labels."
   ]
  },
  {
   "cell_type": "markdown",
   "metadata": {},
   "source": [
    "### Dummy MPG Classifier\n",
    "\n",
    "Our next step is to use our dummy classifier to predict MPG labels.  Our X_train is irrelevant here, since we are only concerned with the most common MPG label.  Our test set remains the same."
   ]
  },
  {
   "cell_type": "code",
   "execution_count": 117,
   "metadata": {},
   "outputs": [
    {
     "name": "stdout",
     "output_type": "stream",
     "text": [
      "Dummy Predicted MPG Label:  [4, 4, 4, 4, 4]\n",
      "Actual MPG Label:  [4, 6, 4, 6, 6]\n"
     ]
    }
   ],
   "source": [
    "dummy = MyDummyClassifier()\n",
    "dummy.fit(kNN_X_train, y_train)\n",
    "dummy_predicted_labels = dummy.predict(X_test)\n",
    "\n",
    "print(\"Dummy Predicted MPG Label: \", kNN_predicted_labels)\n",
    "print(\"Actual MPG Label: \", labels_actual)"
   ]
  },
  {
   "cell_type": "markdown",
   "metadata": {},
   "source": [
    "As it turns out, 4 is our most common label. This means, you guessed it, our accuracy again lands at 40%.  We correctly predicted the same instances as our kNN (1st and 3rd instances)."
   ]
  },
  {
   "cell_type": "markdown",
   "metadata": {},
   "source": [
    "### Classifier Comparison"
   ]
  }
 ],
 "metadata": {
  "kernelspec": {
   "display_name": "Python 3",
   "language": "python",
   "name": "python3"
  },
  "language_info": {
   "codemirror_mode": {
    "name": "ipython",
    "version": 3
   },
   "file_extension": ".py",
   "mimetype": "text/x-python",
   "name": "python",
   "nbconvert_exporter": "python",
   "pygments_lexer": "ipython3",
   "version": "3.9.7"
  }
 },
 "nbformat": 4,
 "nbformat_minor": 4
}
